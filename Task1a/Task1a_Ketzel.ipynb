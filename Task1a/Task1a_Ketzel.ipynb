{
 "cells": [
  {
   "cell_type": "code",
   "execution_count": 1,
   "metadata": {},
   "outputs": [],
   "source": [
    "import pandas as pd\n",
    "import numpy as np\n",
    "import sklearn as sk\n",
    "from sklearn.linear_model import Ridge\n",
    "from sklearn.model_selection import train_test_split\n",
    "from sklearn.model_selection import KFold\n",
    "from sklearn.preprocessing import StandardScaler\n",
    "import matplotlib.pyplot as plt"
   ]
  },
  {
   "cell_type": "code",
   "execution_count": 2,
   "metadata": {},
   "outputs": [
    {
     "name": "stdout",
     "output_type": "stream",
     "text": [
      "(506, 13)\n"
     ]
    }
   ],
   "source": [
    "## Reading data from csv-file and compart into input and output\n",
    "train = pd.read_csv(\"train.csv\")\n",
    "X = np.array(train.drop(columns = [\"Id\", \"y\"]))\n",
    "y = np.array(train.get(\"y\"))\n",
    "#y_train = np.array(y_train)\n",
    "print(X.shape)"
   ]
  },
  {
   "cell_type": "code",
   "execution_count": 3,
   "metadata": {},
   "outputs": [
    {
     "data": {
      "text/plain": [
       "Text(0.5,1,'scatter plot')"
      ]
     },
     "execution_count": 3,
     "metadata": {},
     "output_type": "execute_result"
    },
    {
     "data": {
      "image/png": "[encoded data removed]",
      "text/plain": [
       "<Figure size 432x288 with 40 Axes>"
      ]
     },
     "metadata": {
      "needs_background": "light"
     },
     "output_type": "display_data"
    }
   ],
   "source": [
    "a = 12\n",
    "fig, ax =plt.subplots(X.shape[1],3)\n",
    "ax=fig.add_axes([0,0,1,1])\n",
    "ax.scatter(X[:,a], y , color='r')\n",
    "ax.set_xlabel(f'x{a}_Value')\n",
    "ax.set_ylabel('y_Value')\n",
    "ax.set_title('scatter plot')"
   ]
  },
  {
   "cell_type": "code",
   "execution_count": 4,
   "metadata": {},
   "outputs": [
    {
     "data": {
      "text/plain": [
       "StandardScaler(copy=True, with_mean=True, with_std=True)"
      ]
     },
     "execution_count": 4,
     "metadata": {},
     "output_type": "execute_result"
    }
   ],
   "source": [
    "## data preprocessing\n",
    "scaler = StandardScaler()\n",
    "X = X[:,(a-1):a]\n",
    "scaler.fit(X)\n",
    "#print(x)"
   ]
  },
  {
   "cell_type": "code",
   "execution_count": 5,
   "metadata": {},
   "outputs": [],
   "source": [
    "## k-fold\n",
    "\n",
    "#x_train, x_test, y_train, y_test = train_test_split(x, y, test_size=0.1, random_state=True)\n",
    "\n",
    "#for train_index, test_index in cv.split(x):\n",
    "    #print(\"Train Index: \", train_index, \"\\n\")\n",
    "    #print(\"Test Index: \", test_index)\n"
   ]
  },
  {
   "cell_type": "code",
   "execution_count": 6,
   "metadata": {},
   "outputs": [
    {
     "name": "stdout",
     "output_type": "stream",
     "text": [
      "75.46295472003244 \n",
      " 0.01 \n",
      " [84.38476902503767, 70.2053267213998, 66.43385110588261, 69.53228549913804, 38.927306889518945, 65.41330121158016, 79.8109224622278, 94.83013936719603, 126.27258720477818, 58.8190577135652]\n",
      "75.52727475818847 \n",
      " 0.1 \n",
      " [83.61737151248595, 69.84322046133501, 67.30287301470895, 69.86289687257084, 38.855126643208834, 65.51953028067524, 80.20738644018009, 94.8472940708984, 126.56085071423298, 58.65619757158839]\n",
      "77.74853592967169 \n",
      " 1.0 \n",
      " [82.51764984488993, 70.27148551064226, 73.99128127201531, 73.51078403867031, 41.76897165471437, 67.23584193529105, 83.03998499427743, 95.52185983400264, 130.5051334287985, 59.122366783415075]\n",
      "83.13576309881317 \n",
      " 10.0 \n",
      " [86.05163417481144, 74.46747069095922, 84.51910456057915, 80.4612872833919, 50.15577337353456, 70.92182863824151, 87.25896374687512, 97.1779361004145, 138.60385831152433, 61.73977410779997]\n",
      "84.57807441523629 \n",
      " 100.0 \n",
      " [87.30106389772463, 75.74527006580111, 87.0592374133113, 82.22936708041868, 52.46570544763195, 71.88536162014964, 88.25885171084265, 97.62229466988362, 140.70034878173118, 62.513243464868175]\n"
     ]
    }
   ],
   "source": [
    "#Ridge Regression\n",
    "cv = KFold(n_splits=10)\n",
    "cv.get_n_splits(X)\n",
    "alphas = np.array([0.01, 0.1 , 1 , 10 , 100])\n",
    "RMSE_avg = []\n",
    "\n",
    "for alph in alphas:\n",
    "    RMSE = []\n",
    "    clf = Ridge(alpha= alph, normalize= True, solver = 'auto')\n",
    "    for train_index, test_index in cv.split(X):\n",
    "        X_train, X_test = X[train_index], X[test_index]\n",
    "        y_train, y_test = y[train_index], y[test_index]\n",
    "        clf.fit(X_train, y_train)\n",
    "        y_pred = clf.predict(X_test)\n",
    "        RMSE.append(sk.metrics.mean_squared_error(y_test, y_pred))\n",
    "    \n",
    "    RMSE_avg.append(np.mean(RMSE))\n",
    "    print(np.mean(RMSE), '\\n', alph, '\\n', RMSE)"
   ]
  },
  {
   "cell_type": "code",
   "execution_count": 7,
   "metadata": {},
   "outputs": [
    {
     "name": "stdout",
     "output_type": "stream",
     "text": [
      "(456, 1) (50, 1) \n",
      " (456,) (50,)\n"
     ]
    }
   ],
   "source": [
    "print(X_train.shape,X_test.shape, '\\n', y_train.shape,y_test.shape)"
   ]
  },
  {
   "cell_type": "code",
   "execution_count": 8,
   "metadata": {},
   "outputs": [
    {
     "name": "stdout",
     "output_type": "stream",
     "text": [
      "62.513243464868175\n"
     ]
    }
   ],
   "source": [
    "print(sk.metrics.mean_squared_error(y_test, y_pred))"
   ]
  },
  {
   "cell_type": "code",
   "execution_count": 9,
   "metadata": {},
   "outputs": [
    {
     "name": "stdout",
     "output_type": "stream",
     "text": [
      "[87.30106389772463, 75.74527006580111, 87.0592374133113, 82.22936708041868, 52.46570544763195, 71.88536162014964, 88.25885171084265, 97.62229466988362, 140.70034878173118, 62.513243464868175]\n"
     ]
    }
   ],
   "source": [
    "print(RMSE)"
   ]
  },
  {
   "cell_type": "code",
   "execution_count": 10,
   "metadata": {},
   "outputs": [
    {
     "name": "stdout",
     "output_type": "stream",
     "text": [
      "[75.46295472003244, 75.52727475818847, 77.74853592967169, 83.13576309881317, 84.57807441523629]\n"
     ]
    }
   ],
   "source": [
    "print(RMSE_avg)"
   ]
  },
  {
   "cell_type": "code",
   "execution_count": 11,
   "metadata": {},
   "outputs": [
    {
     "name": "stdout",
     "output_type": "stream",
     "text": [
      "           0\n",
      "0  75.462955\n",
      "1  75.527275\n",
      "2  77.748536\n",
      "3  83.135763\n",
      "4  84.578074\n"
     ]
    }
   ],
   "source": [
    "result = pd.concat([pd.DataFrame(RMSE_avg)])\n",
    "print(result)\n",
    "pd.DataFrame(result).to_csv(\"submit.csv\", index=False, header=False, decimal='.', sep=' ', float_format='%.1f')"
   ]
  },
  {
   "cell_type": "code",
   "execution_count": 12,
   "metadata": {},
   "outputs": [
    {
     "name": "stdout",
     "output_type": "stream",
     "text": [
      "84.57807441523629\n"
     ]
    }
   ],
   "source": [
    "print(max(RMSE_avg))"
   ]
  },
  {
   "cell_type": "code",
   "execution_count": null,
   "metadata": {},
   "outputs": [],
   "source": []
  },
  {
   "cell_type": "code",
   "execution_count": null,
   "metadata": {},
   "outputs": [],
   "source": []
  }
 ],
 "metadata": {
  "kernelspec": {
   "display_name": "Python 3",
   "language": "python",
   "name": "python3"
  },
  "language_info": {
   "codemirror_mode": {
    "name": "ipython",
    "version": 3
   },
   "file_extension": ".py",
   "mimetype": "text/x-python",
   "name": "python",
   "nbconvert_exporter": "python",
   "pygments_lexer": "ipython3",
   "version": "3.7.0"
  }
 },
 "nbformat": 4,
 "nbformat_minor": 2
}
