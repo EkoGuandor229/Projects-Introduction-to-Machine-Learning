{
 "cells": [
  {
   "cell_type": "code",
   "execution_count": 51,
   "metadata": {},
   "outputs": [],
   "source": [
    "import pandas as pd\n",
    "import numpy as np\n",
    "from sklearn.linear_model import LinearRegression"
   ]
  },
  {
   "cell_type": "code",
   "execution_count": 52,
   "metadata": {},
   "outputs": [],
   "source": [
    "def get_weights(X,y):\n",
    "    \n",
    "    reg = LinearRegression()\n",
    "    reg.fit(X,y)\n",
    "    "
   ]
  },
  {
   "cell_type": "code",
   "execution_count": 53,
   "metadata": {},
   "outputs": [
    {
     "name": "stdout",
     "output_type": "stream",
     "text": [
      "(700, 5)\n"
     ]
    }
   ],
   "source": [
    "#Reading data\n",
    "train = pd.read_csv(\"train.csv\")\n",
    "X = np.array(train.drop(columns = [\"Id\", \"y\"]))\n",
    "y = np.array(train.get(\"y\"))\n",
    "print(X.shape)"
   ]
  },
  {
   "cell_type": "code",
   "execution_count": 54,
   "metadata": {},
   "outputs": [],
   "source": [
    "## Data Preprocessing\n",
    "pp = np.append(X, X**2, axis=1)\n",
    "pp = np.append(pp, np.exp(X), axis=1)\n",
    "pp = np.append(pp, np.cos(X), axis=1)\n",
    "pp = np.hstack((pp, np.ones((X.shape[0], 1), dtype=int)))"
   ]
  },
  {
   "cell_type": "code",
   "execution_count": 87,
   "metadata": {},
   "outputs": [
    {
     "name": "stdout",
     "output_type": "stream",
     "text": [
      "[   262.09716383   -384.34196458   1844.79815384   -321.67992018\n",
      "   2854.0118416   -1965.25937459     90.20969944  -3791.14876648\n",
      "    553.92634622  -4873.28557209   -257.36281086    378.05814838\n",
      "  -1838.46897984    323.07744561  -2846.46412765  -4215.31927933\n",
      "    584.28414871  -9369.80824142   1417.22650604 -12489.13947329\n",
      "      0.        ]\n"
     ]
    }
   ],
   "source": [
    "## Linear Regression\n",
    "reg = LinearRegression()\n",
    "reg.fit(pp,y)\n",
    "coeffs = reg.coef_\n",
    "print(coeffs)"
   ]
  },
  {
   "cell_type": "code",
   "execution_count": 56,
   "metadata": {},
   "outputs": [
    {
     "name": "stdout",
     "output_type": "stream",
     "text": [
      "[[ 0.54030231 -0.41614684 -0.9899925 ]\n",
      " [-0.9899925  -0.65364362  0.28366219]]\n",
      "[1. 1. 1.]\n"
     ]
    }
   ],
   "source": [
    " oo = np.array([[1, 2, 3], [3, 4, 5]])\n",
    "print(np.cos(oo))\n",
    "print(np.ones(3))"
   ]
  },
  {
   "cell_type": "code",
   "execution_count": 82,
   "metadata": {},
   "outputs": [],
   "source": [
    "\n"
   ]
  },
  {
   "cell_type": "code",
   "execution_count": 83,
   "metadata": {},
   "outputs": [
    {
     "name": "stdout",
     "output_type": "stream",
     "text": [
      "(700, 21)\n",
      "(700, 5)\n"
     ]
    }
   ],
   "source": [
    "print(pp.shape)\n",
    "print(X.shape)"
   ]
  },
  {
   "cell_type": "code",
   "execution_count": null,
   "metadata": {},
   "outputs": [],
   "source": []
  }
 ],
 "metadata": {
  "kernelspec": {
   "display_name": "Python 3",
   "language": "python",
   "name": "python3"
  },
  "language_info": {
   "codemirror_mode": {
    "name": "ipython",
    "version": 3
   },
   "file_extension": ".py",
   "mimetype": "text/x-python",
   "name": "python",
   "nbconvert_exporter": "python",
   "pygments_lexer": "ipython3",
   "version": "3.7.0"
  }
 },
 "nbformat": 4,
 "nbformat_minor": 2
}
